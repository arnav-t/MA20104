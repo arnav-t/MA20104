{
 "cells": [
  {
   "cell_type": "code",
   "execution_count": null,
   "metadata": {},
   "outputs": [
    {
     "data": {
      "text/markdown": [
       "$5$ balls $\\implies$ $5$ cells\n",
       "$$n(\\Omega) = 5^5$$\n",
       "Let $E_i$ be the event that only $C_i$ remains empty:     \n",
       "Remove $C_i$, distribute one ball to rest.     \n",
       "Distribute the last ball among one of the 4 cells $\\implies n(E_i) = 4$\n",
       "$$\\implies \\sum_{i=1}^{5} P(E_i) = \\frac{\\binom{5}{1}4}{5^5}=\\frac{4}{625}$$"
      ]
     },
     "metadata": {},
     "output_type": "display_data"
    }
   ],
   "source": [
    "$5$ balls $\\implies$ $5$ cells\n",
    "$$n(\\Omega) = 5^5$$\n",
    "Let $E_i$ be the event that only $C_i$ remains empty:     \n",
    "Remove $C_i$, distribute one ball to rest.     \n",
    "Distribute the last ball among one of the 4 cells $\\implies n(E_i) = 4$\n",
    "$$\\implies \\sum_{i=1}^{5} P(E_i) = \\frac{\\binom{5}{1}4}{5^5}=\\frac{4}{625}$$"
   ]
  },
  {
   "cell_type": "code",
   "execution_count": null,
   "metadata": {},
   "outputs": [],
   "source": []
  }
 ],
 "metadata": {
  "kernelspec": {
   "display_name": "Markdown",
   "language": "markdown",
   "name": "markdown"
  },
  "language_info": {
   "codemirror_mode": "markdown",
   "file_extension": ".md",
   "mimetype": "text/markdown",
   "name": "Markdown",
   "pygments_lexer": "markdown"
  }
 },
 "nbformat": 4,
 "nbformat_minor": 2
}
