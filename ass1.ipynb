{
 "cells": [
  {
   "cell_type": "code",
   "execution_count": null,
   "metadata": {},
   "outputs": [
    {
     "data": {
      "text/markdown": [
       "# 1.\n",
       "$5$ balls $\\implies$ $5$ cells\n",
       "$$n(\\Omega) = 5^5$$\n",
       "Let $E_i$ be the event that only $C_i$ remains empty:     \n",
       "Remove $C_i$, distribute one ball to rest.     \n",
       "Distribute the last ball among one of the 4 cells $\\implies n(E_i) = 4$\n",
       "$$\\implies \\sum_{i=1}^{5} P(E_i) = \\frac{\\binom{5}{1}4}{5^5}=\\frac{4}{625}$$"
      ]
     },
     "metadata": {},
     "output_type": "display_data"
    }
   ],
   "source": [
    "# 1.\n",
    "$5$ balls $\\implies$ $5$ cells\n",
    "$$n(\\Omega) = 5^5$$\n",
    "Let $E_i$ be the event that only $C_i$ remains empty:     \n",
    "Remove $C_i$, distribute one ball to rest.     \n",
    "Distribute the last ball among one of the 4 cells $\\implies n(E_i) = 4$\n",
    "$$\\implies \\sum_{i=1}^{5} P(E_i) = \\frac{\\binom{5}{1}4}{5^5}=\\frac{4}{625}$$"
   ]
  },
  {
   "cell_type": "code",
   "execution_count": null,
   "metadata": {},
   "outputs": [
    {
     "data": {
      "text/markdown": [
       "# 2.\n",
       "Given $P(E|F)=P(E|F\\cup G)=P(E|F\\cap G)=P(E)$      \n",
       "Prove $P(E|G)=P(E) \\iff P(E\\cap G)/P(G)=P(E)$\n",
       "$$\\frac{P(E\\cap(F\\cup G))}{P(E)}=\\frac{P(E\\cap(F\\cap G))}{P(E)}$$"
      ]
     },
     "metadata": {},
     "output_type": "display_data"
    }
   ],
   "source": [
    "# 2.\n",
    "Given $P(E|F)=P(E|F\\cup G)=P(E|F\\cap G)=P(E)$      \n",
    "Prove $P(E|G)=P(E) \\iff P(E\\cap G)/P(G)=P(E)$\n",
    "$$\\frac{P(E\\cap(F\\cup G))}{P(E)}=\\frac{P(E\\cap(F\\cap G))}{P(E)}$$\n",
    "$$\\implies"
   ]
  },
  {
   "cell_type": "code",
   "execution_count": null,
   "metadata": {},
   "outputs": [
    {
     "data": {
      "text/markdown": [
       "# 3.\n",
       "$$5=1+1+1+1+1 \\implies n=1$$\n",
       "$$P(A) = \\frac{1}{6^5}$$\n",
       "$$5=1+1+3 \\implies n=3$$\n",
       "$$P(B) = \\frac{3}{6^3}$$\n",
       "$$5=5 \\implies n=1$$\n",
       "$$P(C) = \\frac{1}{6}$$\n",
       "$$P(A\\cup B\\cup C) = \\frac{1}{6^5}+\\frac{3}{6^3}+\\frac{1}{6}$$"
      ]
     },
     "metadata": {},
     "output_type": "display_data"
    }
   ],
   "source": [
    "# 3.\n",
    "$$5=1+1+1+1+1 \\implies n=1$$\n",
    "$$P(A) = \\frac{1}{6^5}$$\n",
    "$$5=1+1+3 \\implies n=3$$\n",
    "$$P(B) = \\frac{3}{6^3}$$\n",
    "$$5=5 \\implies n=1$$\n",
    "$$P(C) = \\frac{1}{6}$$\n",
    "$$P(A\\cup B\\cup C) = \\frac{1}{6^5}+\\frac{3}{6^3}+\\frac{1}{6}$$"
   ]
  },
  {
   "cell_type": "code",
   "execution_count": null,
   "metadata": {},
   "outputs": [
    {
     "data": {
      "text/markdown": [
       "# 4.\n",
       "$$P(C)=0.6,P(H)=0.3,P(C\\cap H)=0.2$$\n",
       "Find $P(C\\cup H - C\\cap H)$\n",
       "$$P(C\\cup H)=0.6+0.3-0.2=0.7$$\n",
       "$$P(C\\cup H - C\\cap H)=0.7-0.2=0.5$$"
      ]
     },
     "metadata": {},
     "output_type": "display_data"
    }
   ],
   "source": [
    "# 4.\n",
    "$$P(C)=0.6,P(H)=0.3,P(C\\cap H)=0.2$$\n",
    "Find $P(C\\cup H - C\\cap H)$\n",
    "$$P(C\\cup H)=0.6+0.3-0.2=0.7$$\n",
    "$$P(C\\cup H - C\\cap H)=0.7-0.2=0.5$$"
   ]
  },
  {
   "cell_type": "code",
   "execution_count": null,
   "metadata": {},
   "outputs": [
    {
     "data": {
      "text/markdown": [
       "# 5.\n",
       "$$P(S)=0.2$$\n",
       "$$P(D|S)=10P(D|\\bar{S})$$\n",
       "$$P(D)=0.006$$\n",
       "$$P(D|S)=?$$\n",
       "$$P(D)=P(S)P(D|S)+P(\\bar{S})P(D|\\bar{S})=2P(D|\\bar{S}) + 0.8P(D|\\bar{S})=2.8P(D|\\bar{S})$$\n",
       "$$\\implies P(D|\\bar{S})=0.00214285714$$"
      ]
     },
     "metadata": {},
     "output_type": "display_data"
    }
   ],
   "source": [
    "# 5.\n",
    "$$P(S)=0.2$$\n",
    "$$P(D|S)=10P(D|\\bar{S})$$\n",
    "$$P(D)=0.006$$\n",
    "$$P(D|S)=?$$\n",
    "$$P(D)=P(S)P(D|S)+P(\\bar{S})P(D|\\bar{S})=2P(D|\\bar{S}) + 0.8P(D|\\bar{S})=2.8P(D|\\bar{S})$$\n",
    "$$\\implies P(D|\\bar{S})=0.00214285714$$"
   ]
  },
  {
   "cell_type": "code",
   "execution_count": null,
   "metadata": {},
   "outputs": [],
   "source": []
  }
 ],
 "metadata": {
  "kernelspec": {
   "display_name": "Markdown",
   "language": "markdown",
   "name": "markdown"
  },
  "language_info": {
   "codemirror_mode": "markdown",
   "file_extension": ".md",
   "mimetype": "text/markdown",
   "name": "Markdown",
   "pygments_lexer": "markdown"
  }
 },
 "nbformat": 4,
 "nbformat_minor": 2
}
